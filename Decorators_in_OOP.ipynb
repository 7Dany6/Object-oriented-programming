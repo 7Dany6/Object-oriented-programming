{
 "cells": [
  {
   "cell_type": "markdown",
   "metadata": {},
   "source": [
    "# Below we have the Date class. We have specified two attributes the day and the month in its __init__ method:\n",
    "\n",
    "class Date:\n",
    "\n",
    "    def __init__(self, day, month):\n",
    "        self.day = day\n",
    "        self.month = month\n",
    "Based on these attributes, we want to create a new one, the date that will represent the day and the month string values divided by a slash. For example, for 14 and 05 we should get 14/05.\n",
    "\n",
    "This attribute could have been set in the initializer, too. In this case, however, if we were to change the day value to 15, for example, we would still get 14/05.\n",
    "# Solution:"
   ]
  },
  {
   "cell_type": "code",
   "execution_count": 1,
   "metadata": {},
   "outputs": [],
   "source": [
    " class Date:\n",
    "\n",
    "    def __init__(self, day, month):\n",
    "        self.day = day\n",
    "        self.month = month\n",
    "\n",
    "    @property\n",
    "    def date(self):\n",
    "        return self.day + '/' + self.month"
   ]
  },
  {
   "cell_type": "markdown",
   "metadata": {},
   "source": [
    "# Below we have the Person class, which we use to store general information about the users. As for now, we have defined only the __init__ method with name and email as parameters.\n",
    "\n",
    "class Person:\n",
    "    \n",
    "    def __init__(self, name, email):\n",
    "        self.name = name\n",
    "        self.email = email\n",
    "Let's say we have a number of strings where a person's name and their email are separated by a single hyphen. Write a from_string method that will serve as an alternative constructor for the class and specify the name of the decorator above it. Use the split(some_separator) method to divide a string.\n",
    "# Solution:"
   ]
  },
  {
   "cell_type": "code",
   "execution_count": 2,
   "metadata": {},
   "outputs": [],
   "source": [
    "class Person:\n",
    "\n",
    "    def __init__(self, name, email):\n",
    "        self.name = name\n",
    "        self.email = email\n",
    "\n",
    "    @classmethod\n",
    "    def from_string(cls, data):\n",
    "        name, email = data.split('-')\n",
    "        return cls(name, email)"
   ]
  },
  {
   "cell_type": "markdown",
   "metadata": {},
   "source": [
    "# We have the Time class. We have defined two attributes: the hour and the minute in its initializer.\n",
    "\n",
    "class Time:\n",
    "\n",
    "    def __init__(self, hour, minute):\n",
    "        self.hour = hour\n",
    "        self.minute = minute\n",
    "To create class instances from such strings as 14:00, we need to parse them as two string variables. Write a from_string method that will serve as an alternative constructor for the Time class. Use the split(\":\") to divide the given string.\n",
    "# Solution:"
   ]
  },
  {
   "cell_type": "code",
   "execution_count": 20,
   "metadata": {},
   "outputs": [],
   "source": [
    "class Time:\n",
    "\n",
    "    def __init__(self, hour, minute):\n",
    "        self.hour = hour\n",
    "        self.minute = minute\n",
    "\n",
    "    @classmethod\n",
    "    def from_string(cls, inp):\n",
    "        hour, minute = inp.split(':')\n",
    "        return cls(hour, minute)"
   ]
  },
  {
   "cell_type": "markdown",
   "metadata": {},
   "source": [
    "# Below you can see the Area class. Write the body of a rhombus_area method that will find the area assuming that it is always half the product of its diagonals (the lengths of diagonals should be given as arguments).\n",
    "\n",
    "class Area:\n",
    "\n",
    "    def __init__(self, figure_name):\n",
    "        self.figure_name = figure_name\n",
    "\n",
    "    def rhombus_area(a, b):\n",
    "        ...\n",
    "For example, for values 8 and 9 the method should return 36.0. You do not have to take input or create class instances, but do not forget to specify the decorator that will allow us to access the method without any class instances.\n",
    "# Solution:"
   ]
  },
  {
   "cell_type": "code",
   "execution_count": 21,
   "metadata": {},
   "outputs": [],
   "source": [
    "class Area:\n",
    "\n",
    "    def __init__(self, figure_name):\n",
    "        self.figure_name = figure_name\n",
    "\n",
    "    @staticmethod\n",
    "    def rhombus_area(a, b):\n",
    "        return 0.5 * a * b"
   ]
  }
 ],
 "metadata": {
  "kernelspec": {
   "display_name": "Python 3",
   "language": "python",
   "name": "python3"
  },
  "language_info": {
   "codemirror_mode": {
    "name": "ipython",
    "version": 3
   },
   "file_extension": ".py",
   "mimetype": "text/x-python",
   "name": "python",
   "nbconvert_exporter": "python",
   "pygments_lexer": "ipython3",
   "version": "3.8.5"
  }
 },
 "nbformat": 4,
 "nbformat_minor": 4
}
